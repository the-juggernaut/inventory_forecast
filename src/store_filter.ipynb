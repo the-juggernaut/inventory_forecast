{
 "cells": [
  {
   "cell_type": "code",
   "execution_count": 2,
   "id": "445a7364",
   "metadata": {},
   "outputs": [],
   "source": [
    "import pandas as pd\n",
    "import numpy as np\n",
    "import os\n",
    "\n",
    "# Path to original datasets\n",
    "data_dir = \"../dataset/original/\"\n",
    "sales_train = pd.read_csv(data_dir + 'sales_train_validation.csv')\n",
    "sales_eval = pd.read_csv(data_dir + 'sales_train_evaluation.csv')\n",
    "sell_prices = pd.read_csv(data_dir + 'sell_prices.csv')\n",
    "calendar = pd.read_csv(data_dir + 'calendar.csv')"
   ]
  },
  {
   "cell_type": "code",
   "execution_count": 3,
   "id": "b00e7b45",
   "metadata": {},
   "outputs": [
    {
     "name": "stdout",
     "output_type": "stream",
     "text": [
      "Store with highest total unit sales: CA_3\n"
     ]
    }
   ],
   "source": [
    "# Sum all unit sales per store\n",
    "sales_train[\"total_sales\"] = sales_train.iloc[:, 6:].sum(axis=1)  # d_1 to d_1941 columns\n",
    "store_sales = sales_train.groupby(\"store_id\")[\"total_sales\"].sum().reset_index()\n",
    "\n",
    "# Get store with highest total unit sales\n",
    "top_store_id = store_sales.sort_values(\"total_sales\", ascending=False).iloc[0][\n",
    "    \"store_id\"\n",
    "]\n",
    "\n",
    "print(f\"Store with highest total unit sales: {top_store_id}\")"
   ]
  },
  {
   "cell_type": "code",
   "execution_count": 4,
   "id": "4be38ca4",
   "metadata": {},
   "outputs": [],
   "source": [
    "# Reduce dataframes to the store with the highest total unit sales\n",
    "sales_train_top = sales_train[sales_train[\"store_id\"] == top_store_id]\n",
    "sales_eval_top = sales_eval[sales_eval[\"store_id\"] == top_store_id]\n",
    "sell_prices_top = sell_prices[sell_prices[\"store_id\"] == top_store_id]\n",
    "\n",
    "# Drop unnecessary columns: store_id, state_id, (item_id+store_id)\n",
    "sales_train_top = sales_train_top.drop(columns=[\"store_id\", \"state_id\", \"id\"])\n",
    "sales_eval_top = sales_eval_top.drop(columns=[\"store_id\", \"state_id\", \"id\"])\n",
    "sell_prices_top = sell_prices_top.drop(columns=[\"store_id\"])"
   ]
  },
  {
   "cell_type": "code",
   "execution_count": 5,
   "id": "bbd9412f",
   "metadata": {},
   "outputs": [],
   "source": [
    "calendar[\"date\"] = pd.to_datetime(calendar[\"date\"])\n",
    "calendar.drop(columns=[col for col in calendar.columns if \"snap\" in col], errors=\"ignore\", inplace=True)\n",
    "\n",
    "## RAM \n",
    "keep_pct = 0.5  # keep last 50% of days\n",
    "\n",
    "\n",
    "# Determine which days to keep\n",
    "day_cols = [col for col in sales_train_top.columns if col.startswith(\"d_\")]\n",
    "num_keep = int(len(day_cols) * keep_pct)\n",
    "keep_days = day_cols[-num_keep:]  # last N% of days\n",
    "\n",
    "# Subset the sales data\n",
    "sales_train_top = sales_train_top[[\"item_id\", \"dept_id\", \"cat_id\"] + keep_days]\n",
    "\n",
    "# Filter calendar and prices accordingly\n",
    "calendar = calendar[calendar[\"d\"].isin(keep_days)]\n",
    "remaining_wm_yr_wks = calendar[\"wm_yr_wk\"].unique()\n",
    "sell_prices = sell_prices[sell_prices[\"wm_yr_wk\"].isin(remaining_wm_yr_wks)]\n",
    "\n"
   ]
  },
  {
   "cell_type": "code",
   "execution_count": 7,
   "id": "9c8e13c7",
   "metadata": {},
   "outputs": [],
   "source": [
    "# Save CSVs to /dataset/raw directory\n",
    "out_dir = \"../dataset/raw/\"\n",
    "os.makedirs(out_dir, exist_ok=True)\n",
    "sales_train_top.to_csv(out_dir + \"sales_train.csv\", index=False)\n",
    "sales_eval_top.to_csv(out_dir + \"sales_eval.csv\", index=False)\n",
    "sell_prices_top.to_csv(out_dir + \"sell_prices.csv\", index=False)\n",
    "calendar.to_csv(out_dir + \"calendar.csv\", index=False)\n",
    "\n",
    "# Save the top store ID for reference\n",
    "with open(out_dir + \"top_store_id.txt\", \"w\") as f:\n",
    "    f.write(top_store_id)"
   ]
  },
  {
   "cell_type": "code",
   "execution_count": null,
   "id": "7dc0ef67",
   "metadata": {},
   "outputs": [],
   "source": []
  }
 ],
 "metadata": {
  "kernelspec": {
   "display_name": "walle",
   "language": "python",
   "name": "python3"
  },
  "language_info": {
   "codemirror_mode": {
    "name": "ipython",
    "version": 3
   },
   "file_extension": ".py",
   "mimetype": "text/x-python",
   "name": "python",
   "nbconvert_exporter": "python",
   "pygments_lexer": "ipython3",
   "version": "3.12.4"
  }
 },
 "nbformat": 4,
 "nbformat_minor": 5
}
