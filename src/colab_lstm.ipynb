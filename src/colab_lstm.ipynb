{
  "cells": [
    {
      "cell_type": "code",
      "execution_count": 38,
      "id": "d6e78dc2",
      "metadata": {
        "id": "d6e78dc2"
      },
      "outputs": [],
      "source": [
        "import pandas as pd\n",
        "import numpy as np\n",
        "import matplotlib.pyplot as plt\n",
        "import gc\n",
        "from pathlib import Path\n",
        "\n",
        "from tensorflow.keras.models import Sequential\n",
        "from tensorflow.keras.layers import (LSTM, Dense, Dropout, Conv1D, BatchNormalization)\n",
        "from tensorflow.keras.optimizers import Adam\n",
        "from tensorflow.keras.callbacks import EarlyStopping, ModelCheckpoint\n",
        "from sklearn.metrics import mean_absolute_percentage_error,mean_squared_error\n",
        "from tensorflow.keras.preprocessing.sequence import TimeseriesGenerator\n",
        "\n",
        "from sklearn.preprocessing import MinMaxScaler, LabelEncoder\n",
        "from sklearn.model_selection import train_test_split"
      ]
    },
    {
      "cell_type": "code",
      "execution_count": 39,
      "id": "44c64c5e",
      "metadata": {
        "id": "44c64c5e"
      },
      "outputs": [],
      "source": [
        "def reduce_memory_usage(df):\n",
        "    start_mem = df.memory_usage().sum() / 1024**2\n",
        "    print(f\"Memory usage of dataframe is: {start_mem:.2f} MB\")\n",
        "\n",
        "    for col in df.columns:\n",
        "        if df[col].dtype == \"float64\":\n",
        "            df[col] = pd.to_numeric(df[col], downcast=\"float\")\n",
        "        elif df[col].dtype == \"int64\":\n",
        "            df[col] = pd.to_numeric(df[col], downcast=\"integer\")\n",
        "        elif df[col].dtype == \"object\":\n",
        "            df[col] = df[col].astype(\"category\")\n",
        "\n",
        "    end_mem = df.memory_usage().sum() / 1024**2\n",
        "    print(f\"Memory usage after optimization is: {end_mem:.2f} MB\")\n",
        "\n",
        "    return df\n"
      ]
    },
    {
      "cell_type": "code",
      "execution_count": 62,
      "id": "7f9cba52",
      "metadata": {
        "colab": {
          "base_uri": "https://localhost:8080/"
        },
        "id": "7f9cba52",
        "outputId": "f8e731fc-bb6c-46d0-99d2-76af523a58aa"
      },
      "outputs": [
        {
          "output_type": "stream",
          "name": "stderr",
          "text": [
            "<ipython-input-62-975f88a93de5>:8: DtypeWarning: Columns (24,25,26,27,28,29,30,31) have mixed types. Specify dtype option on import or set low_memory=False.\n",
            "  df = pd.read_csv(df_path)\n"
          ]
        },
        {
          "output_type": "stream",
          "name": "stdout",
          "text": [
            "Memory usage of dataframe is: 1252.98 MB\n",
            "Memory usage after optimization is: 421.01 MB\n"
          ]
        }
      ],
      "source": [
        "# Global variables\n",
        "encoder_map = {}\n",
        "forecast_horizon = 28\n",
        "lookback_window = 7\n",
        "model_path = str(\"sales_forecast_model.h5\")\n",
        "\n",
        "df_path = str(\"processed_sales_data.csv\")\n",
        "df = pd.read_csv(df_path)\n",
        "df = reduce_memory_usage(df)\n",
        "\n",
        "\n",
        "df.drop(columns=[\"Unnamed: 0\"], inplace=True)\n",
        "\n",
        "# dropping events for now\n",
        "events = ['event_1_Cultural', 'event_1_National', 'event_1_None',\n",
        "       'event_1_Religious', 'event_1_Sporting', 'event_2_Cultural',\n",
        "       'event_2_None', 'event_2_Religious']\n",
        "df.drop(columns=events, inplace=True)\n",
        "\n",
        "# Reducing dataset size\n",
        "df = df[df[\"year\"] == 2016]"
      ]
    },
    {
      "cell_type": "code",
      "source": [
        "df.columns"
      ],
      "metadata": {
        "colab": {
          "base_uri": "https://localhost:8080/"
        },
        "id": "AH9P0qHK91cf",
        "outputId": "e0be6a40-bc95-474a-9053-1775be550838"
      },
      "id": "AH9P0qHK91cf",
      "execution_count": 52,
      "outputs": [
        {
          "output_type": "execute_result",
          "data": {
            "text/plain": [
              "Index(['item_id', 'dept_id', 'cat_id', 'sales', 'wday', 'month', 'year',\n",
              "       'sell_price', 'lag_7', 'lag_14', 'lag_28', 'rolling_mean_7',\n",
              "       'rolling_std_7', 'rolling_mean_14', 'rolling_std_14', 'rolling_mean_28',\n",
              "       'rolling_std_28', 'rolling_mean_56', 'rolling_std_56', 'expanding_mean',\n",
              "       'price_change_pct', 'rolling_price_std_4w', 'week_of_year',\n",
              "       'event_1_Cultural', 'event_1_National', 'event_1_None',\n",
              "       'event_1_Religious', 'event_1_Sporting', 'event_2_Cultural',\n",
              "       'event_2_None', 'event_2_Religious'],\n",
              "      dtype='object')"
            ]
          },
          "metadata": {},
          "execution_count": 52
        }
      ]
    },
    {
      "cell_type": "code",
      "execution_count": 63,
      "id": "d50035c8",
      "metadata": {
        "id": "d50035c8",
        "colab": {
          "base_uri": "https://localhost:8080/"
        },
        "outputId": "8ff22111-758d-4d03-8f64-849ed23c6e2d"
      },
      "outputs": [
        {
          "output_type": "stream",
          "name": "stderr",
          "text": [
            "<ipython-input-63-4020c0e521cd>:40: FutureWarning: DataFrame.fillna with 'method' is deprecated and will raise in a future version. Use obj.ffill() or obj.bfill() instead.\n",
            "  df.fillna(method='ffill', inplace=True)\n"
          ]
        }
      ],
      "source": [
        "\n",
        "FEATURES = [cols for cols in df.columns if cols not in ['log_sales', 'sales']]\n",
        "TARGET = \"sales\"\n",
        "\n",
        "# Feature Scaling\n",
        "SCALE_FEATURES = [\n",
        "    \"sell_price\",\n",
        "    \"lag_7\",\n",
        "    \"lag_14\",\n",
        "    \"lag_28\",\n",
        "    \"rolling_mean_7\",\n",
        "    \"rolling_std_7\",\n",
        "    \"rolling_mean_14\",\n",
        "    \"rolling_std_14\",\n",
        "    \"rolling_mean_28\",\n",
        "    \"rolling_std_28\",\n",
        "    \"rolling_mean_56\",\n",
        "    \"rolling_std_56\",\n",
        "    \"expanding_mean\",\n",
        "    \"price_change_pct\",\n",
        "    \"rolling_price_std_4w\",\n",
        "]\n",
        "scaler = MinMaxScaler()\n",
        "df[SCALE_FEATURES] = scaler.fit_transform(df[SCALE_FEATURES])\n",
        "\n",
        "\n",
        "# Prep as Time series\n",
        "df.sort_values([\"item_id\", \"year\", \"month\", \"wday\"], inplace=True)\n",
        "\n",
        "# Encoding categorical features\n",
        "cat_features = [\"item_id\", \"dept_id\", \"cat_id\"]\n",
        "for col in cat_features:\n",
        "    le = LabelEncoder()\n",
        "    df[col] = le.fit_transform(df[col])\n",
        "    encoder_map[col] = le\n",
        "\n",
        "# Convert bool to int8\n",
        "booleans = df.select_dtypes(include=[\"bool\"]).columns\n",
        "df[booleans] = df[booleans].astype(\"int8\")\n",
        "\n",
        "df.fillna(method='ffill', inplace=True)\n"
      ]
    },
    {
      "cell_type": "code",
      "execution_count": 64,
      "id": "3ed426a4",
      "metadata": {
        "id": "3ed426a4"
      },
      "outputs": [],
      "source": [
        "# Train-test split\n",
        "train_df, test_df = train_test_split(df, test_size=0.2, random_state=42, shuffle=False)\n",
        "\n",
        "# Define input features and target\n",
        "X_train = train_df[FEATURES].values\n",
        "y_train = train_df[TARGET].values\n",
        "X_test = test_df[FEATURES].values\n",
        "y_test = test_df[TARGET].values\n"
      ]
    },
    {
      "cell_type": "code",
      "execution_count": 65,
      "id": "10b1e7be",
      "metadata": {
        "id": "10b1e7be"
      },
      "outputs": [],
      "source": [
        "# Generate sequences\n",
        "train_gen = TimeseriesGenerator(\n",
        "    X_train, y_train, length=lookback_window, batch_size=128\n",
        ")\n",
        "\n",
        "val_gen = TimeseriesGenerator(X_test, y_test, length=lookback_window, batch_size=128)"
      ]
    },
    {
      "cell_type": "code",
      "execution_count": 67,
      "id": "eb642b52",
      "metadata": {
        "colab": {
          "base_uri": "https://localhost:8080/"
        },
        "id": "eb642b52",
        "outputId": "4a27ae9f-fcab-4694-a527-5d6519c7d2e3"
      },
      "outputs": [
        {
          "output_type": "stream",
          "name": "stderr",
          "text": [
            "/usr/local/lib/python3.11/dist-packages/keras/src/layers/convolutional/base_conv.py:107: UserWarning: Do not pass an `input_shape`/`input_dim` argument to a layer. When using Sequential models, prefer using an `Input(shape)` object as the first layer in the model instead.\n",
            "  super().__init__(activity_regularizer=activity_regularizer, **kwargs)\n"
          ]
        }
      ],
      "source": [
        "model = Sequential(\n",
        "    [\n",
        "        Conv1D(\n",
        "            filters=64,\n",
        "            kernel_size=3,\n",
        "            activation=\"relu\",\n",
        "            input_shape=(lookback_window, len(FEATURES)),\n",
        "        ),\n",
        "        BatchNormalization(),\n",
        "        LSTM(64, return_sequences=False),\n",
        "        Dropout(0.3),\n",
        "        Dense(32, activation=\"relu\"),\n",
        "        Dense(1),\n",
        "    ]\n",
        ")\n",
        "# Out: predicted sales value\n",
        "\n",
        "model.compile(optimizer=Adam(learning_rate=0.001), loss=\"mse\", metrics=[\"mae\"])"
      ]
    },
    {
      "cell_type": "code",
      "execution_count": 68,
      "id": "f90cdc78",
      "metadata": {
        "colab": {
          "base_uri": "https://localhost:8080/"
        },
        "id": "f90cdc78",
        "outputId": "d324cbe9-974b-46b3-f167-3473e654588e"
      },
      "outputs": [
        {
          "output_type": "stream",
          "name": "stdout",
          "text": [
            "Epoch 1/50\n"
          ]
        },
        {
          "output_type": "stream",
          "name": "stderr",
          "text": [
            "/usr/local/lib/python3.11/dist-packages/keras/src/trainers/data_adapters/py_dataset_adapter.py:121: UserWarning: Your `PyDataset` class should call `super().__init__(**kwargs)` in its constructor. `**kwargs` can include `workers`, `use_multiprocessing`, `max_queue_size`. Do not pass these arguments to `fit()`, as they will be ignored.\n",
            "  self._warn_if_super_not_called()\n"
          ]
        },
        {
          "output_type": "stream",
          "name": "stdout",
          "text": [
            "\u001b[1m1927/1928\u001b[0m \u001b[32m━━━━━━━━━━━━━━━━━━━\u001b[0m\u001b[37m━\u001b[0m \u001b[1m0s\u001b[0m 19ms/step - loss: 23.4806 - mae: 2.3479"
          ]
        },
        {
          "output_type": "stream",
          "name": "stderr",
          "text": [
            "WARNING:absl:You are saving your model as an HDF5 file via `model.save()` or `keras.saving.save_model(model)`. This file format is considered legacy. We recommend using instead the native Keras format, e.g. `model.save('my_model.keras')` or `keras.saving.save_model(model, 'my_model.keras')`. \n"
          ]
        },
        {
          "output_type": "stream",
          "name": "stdout",
          "text": [
            "\b\b\b\b\b\b\b\b\b\b\b\b\b\b\b\b\b\b\b\b\b\b\b\b\b\b\b\b\b\b\b\b\b\b\b\b\b\b\b\b\b\b\b\b\b\b\b\b\b\b\b\b\b\b\b\b\b\b\b\b\b\b\b\b\b\b\b\b\b\b\b\b\b\r\u001b[1m1928/1928\u001b[0m \u001b[32m━━━━━━━━━━━━━━━━━━━━\u001b[0m\u001b[37m\u001b[0m \u001b[1m45s\u001b[0m 21ms/step - loss: 23.4803 - mae: 2.3478 - val_loss: 16.7653 - val_mae: 2.1803\n",
            "Epoch 2/50\n",
            "\u001b[1m1926/1928\u001b[0m \u001b[32m━━━━━━━━━━━━━━━━━━━\u001b[0m\u001b[37m━\u001b[0m \u001b[1m0s\u001b[0m 18ms/step - loss: 16.5834 - mae: 2.0569"
          ]
        },
        {
          "output_type": "stream",
          "name": "stderr",
          "text": [
            "WARNING:absl:You are saving your model as an HDF5 file via `model.save()` or `keras.saving.save_model(model)`. This file format is considered legacy. We recommend using instead the native Keras format, e.g. `model.save('my_model.keras')` or `keras.saving.save_model(model, 'my_model.keras')`. \n"
          ]
        },
        {
          "output_type": "stream",
          "name": "stdout",
          "text": [
            "\b\b\b\b\b\b\b\b\b\b\b\b\b\b\b\b\b\b\b\b\b\b\b\b\b\b\b\b\b\b\b\b\b\b\b\b\b\b\b\b\b\b\b\b\b\b\b\b\b\b\b\b\b\b\b\b\b\b\b\b\b\b\b\b\b\b\b\b\b\b\b\b\b\r\u001b[1m1928/1928\u001b[0m \u001b[32m━━━━━━━━━━━━━━━━━━━━\u001b[0m\u001b[37m\u001b[0m \u001b[1m38s\u001b[0m 20ms/step - loss: 16.5879 - mae: 2.0569 - val_loss: 15.4540 - val_mae: 2.3963\n",
            "Epoch 3/50\n",
            "\u001b[1m1928/1928\u001b[0m \u001b[32m━━━━━━━━━━━━━━━━━━━━\u001b[0m\u001b[37m\u001b[0m \u001b[1m35s\u001b[0m 18ms/step - loss: 28.0584 - mae: 2.2574 - val_loss: 15.7410 - val_mae: 2.6781\n",
            "Epoch 4/50\n",
            "\u001b[1m1928/1928\u001b[0m \u001b[32m━━━━━━━━━━━━━━━━━━━━\u001b[0m\u001b[37m\u001b[0m \u001b[1m0s\u001b[0m 17ms/step - loss: 17.3949 - mae: 2.0922"
          ]
        },
        {
          "output_type": "stream",
          "name": "stderr",
          "text": [
            "WARNING:absl:You are saving your model as an HDF5 file via `model.save()` or `keras.saving.save_model(model)`. This file format is considered legacy. We recommend using instead the native Keras format, e.g. `model.save('my_model.keras')` or `keras.saving.save_model(model, 'my_model.keras')`. \n"
          ]
        },
        {
          "output_type": "stream",
          "name": "stdout",
          "text": [
            "\b\b\b\b\b\b\b\b\b\b\b\b\b\b\b\b\b\b\b\b\b\b\b\b\b\b\b\b\b\b\b\b\b\b\b\b\b\b\b\b\b\b\b\b\b\b\b\b\b\b\b\b\b\b\b\b\b\b\b\b\b\b\b\b\b\b\b\b\b\b\b\b\b\r\u001b[1m1928/1928\u001b[0m \u001b[32m━━━━━━━━━━━━━━━━━━━━\u001b[0m\u001b[37m\u001b[0m \u001b[1m37s\u001b[0m 19ms/step - loss: 17.3949 - mae: 2.0921 - val_loss: 15.3631 - val_mae: 2.5882\n",
            "Epoch 5/50\n",
            "\u001b[1m1928/1928\u001b[0m \u001b[32m━━━━━━━━━━━━━━━━━━━━\u001b[0m\u001b[37m\u001b[0m \u001b[1m36s\u001b[0m 19ms/step - loss: 19.8727 - mae: 2.1986 - val_loss: 15.3721 - val_mae: 2.3402\n",
            "Epoch 6/50\n",
            "\u001b[1m1928/1928\u001b[0m \u001b[32m━━━━━━━━━━━━━━━━━━━━\u001b[0m\u001b[37m\u001b[0m \u001b[1m33s\u001b[0m 17ms/step - loss: 15.2244 - mae: 2.0097 - val_loss: 15.8992 - val_mae: 2.2959\n",
            "Epoch 7/50\n",
            "\u001b[1m1928/1928\u001b[0m \u001b[32m━━━━━━━━━━━━━━━━━━━━\u001b[0m\u001b[37m\u001b[0m \u001b[1m38s\u001b[0m 20ms/step - loss: 20.3024 - mae: 2.0823 - val_loss: 15.7742 - val_mae: 2.7343\n",
            "Epoch 8/50\n",
            "\u001b[1m1928/1928\u001b[0m \u001b[32m━━━━━━━━━━━━━━━━━━━━\u001b[0m\u001b[37m\u001b[0m \u001b[1m35s\u001b[0m 18ms/step - loss: 13.7402 - mae: 1.9476 - val_loss: 15.6782 - val_mae: 2.5213\n",
            "Epoch 9/50\n",
            "\u001b[1m1928/1928\u001b[0m \u001b[32m━━━━━━━━━━━━━━━━━━━━\u001b[0m\u001b[37m\u001b[0m \u001b[1m34s\u001b[0m 18ms/step - loss: 14.2183 - mae: 1.9283 - val_loss: 15.8903 - val_mae: 2.6583\n",
            "Epoch 10/50\n",
            "\u001b[1m1928/1928\u001b[0m \u001b[32m━━━━━━━━━━━━━━━━━━━━\u001b[0m\u001b[37m\u001b[0m \u001b[1m42s\u001b[0m 18ms/step - loss: 13.2136 - mae: 1.9085 - val_loss: 17.0731 - val_mae: 2.9939\n",
            "Epoch 11/50\n",
            "\u001b[1m1928/1928\u001b[0m \u001b[32m━━━━━━━━━━━━━━━━━━━━\u001b[0m\u001b[37m\u001b[0m \u001b[1m35s\u001b[0m 18ms/step - loss: 15.6193 - mae: 1.9982 - val_loss: 15.4035 - val_mae: 2.4509\n",
            "Epoch 12/50\n",
            "\u001b[1m1928/1928\u001b[0m \u001b[32m━━━━━━━━━━━━━━━━━━━━\u001b[0m\u001b[37m\u001b[0m \u001b[1m35s\u001b[0m 18ms/step - loss: 13.2324 - mae: 1.8588 - val_loss: 15.6788 - val_mae: 2.7044\n",
            "Epoch 13/50\n",
            "\u001b[1m1928/1928\u001b[0m \u001b[32m━━━━━━━━━━━━━━━━━━━━\u001b[0m\u001b[37m\u001b[0m \u001b[1m45s\u001b[0m 20ms/step - loss: 15.7578 - mae: 1.9953 - val_loss: 17.2268 - val_mae: 3.1509\n",
            "Epoch 14/50\n",
            "\u001b[1m1928/1928\u001b[0m \u001b[32m━━━━━━━━━━━━━━━━━━━━\u001b[0m\u001b[37m\u001b[0m \u001b[1m36s\u001b[0m 19ms/step - loss: 15.2341 - mae: 1.9573 - val_loss: 16.5502 - val_mae: 2.9079\n"
          ]
        }
      ],
      "source": [
        "callbacks = [\n",
        "    EarlyStopping(patience=10, restore_best_weights=True),\n",
        "    ModelCheckpoint(model_path, save_best_only=True),\n",
        "    # ModelCheckpoint(\"best_lstm_model.h5\", save_best_only=True),\n",
        "]\n",
        "\n",
        "history = model.fit(train_gen, validation_data=val_gen, epochs=50, callbacks=callbacks)"
      ]
    },
    {
      "cell_type": "code",
      "execution_count": 69,
      "id": "ecb22d93",
      "metadata": {
        "id": "ecb22d93",
        "outputId": "759a1dbb-1be9-47ee-9772-278ffcd3cb7b",
        "colab": {
          "base_uri": "https://localhost:8080/",
          "height": 616
        }
      },
      "outputs": [
        {
          "output_type": "stream",
          "name": "stdout",
          "text": [
            "\u001b[1m482/482\u001b[0m \u001b[32m━━━━━━━━━━━━━━━━━━━━\u001b[0m\u001b[37m\u001b[0m \u001b[1m3s\u001b[0m 6ms/step\n",
            "MAPE: 5379721953017856.0000\n",
            "RMSE: 3.9196\n"
          ]
        },
        {
          "output_type": "display_data",
          "data": {
            "text/plain": [
              "<Figure size 1200x600 with 1 Axes>"
            ],
            "image/png": "[encoded data removed]"
          },
          "metadata": {}
        }
      ],
      "source": [
        "# Metric evaluation\n",
        "preds = model.predict(val_gen)\n",
        "sales = y_test[lookback_window:]\n",
        "\n",
        "mape = mean_absolute_percentage_error(sales, preds)\n",
        "rmse = np.sqrt(mean_squared_error(sales, preds))\n",
        "\n",
        "print(f\"MAPE: {mape:.4f}\")\n",
        "print(f\"RMSE: {rmse:.4f}\")\n",
        "\n",
        "# Plot comparision\n",
        "plt.figure(figsize=(12, 6))\n",
        "plt.plot(range(forecast_horizon), sales[:forecast_horizon], label=\"Actual Sales\")\n",
        "plt.plot(range(forecast_horizon), preds[:forecast_horizon], label=\"Predicted Sales\")\n",
        "plt.title(\"LSTM Forecast Comparison\")\n",
        "plt.xlabel(\"Time Steps\")\n",
        "plt.ylabel(\"Sales\")\n",
        "plt.legend()\n",
        "plt.grid(True)\n",
        "plt.show()"
      ]
    },
    {
      "cell_type": "code",
      "execution_count": 70,
      "id": "c2bca8a7",
      "metadata": {
        "id": "c2bca8a7",
        "colab": {
          "base_uri": "https://localhost:8080/"
        },
        "outputId": "4d86595f-8f05-418e-a82f-e1ee7e2caf9f"
      },
      "outputs": [
        {
          "output_type": "stream",
          "name": "stderr",
          "text": [
            "WARNING:absl:You are saving your model as an HDF5 file via `model.save()` or `keras.saving.save_model(model)`. This file format is considered legacy. We recommend using instead the native Keras format, e.g. `model.save('my_model.keras')` or `keras.saving.save_model(model, 'my_model.keras')`. \n"
          ]
        }
      ],
      "source": [
        "model.save(model_path)"
      ]
    },
    {
      "cell_type": "code",
      "source": [],
      "metadata": {
        "id": "j7994pD1DLbw"
      },
      "id": "j7994pD1DLbw",
      "execution_count": null,
      "outputs": []
    }
  ],
  "metadata": {
    "colab": {
      "provenance": []
    },
    "kernelspec": {
      "display_name": "walle",
      "language": "python",
      "name": "python3"
    },
    "language_info": {
      "codemirror_mode": {
        "name": "ipython",
        "version": 3
      },
      "file_extension": ".py",
      "mimetype": "text/x-python",
      "name": "python",
      "nbconvert_exporter": "python",
      "pygments_lexer": "ipython3",
      "version": "3.12.4"
    }
  },
  "nbformat": 4,
  "nbformat_minor": 5
}